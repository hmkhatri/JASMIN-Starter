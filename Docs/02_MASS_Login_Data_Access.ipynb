{
 "cells": [
  {
   "cell_type": "markdown",
   "id": "c59ee8ca",
   "metadata": {},
   "source": [
    "## Login to MASS account\n",
    "\n",
    "Userd can apply for a MASS account, which is required to get access to data stored on Metoffice Archive. This notebook covers how to login to mass account and how to transfer data from Met Office archive to jasmin.\n",
    "\n",
    "From jasmin account, users can login to mass account using the following command (see https://help.jasmin.ac.uk/article/230-setting-up-your-jasmin-account-for-access-to-mass for more information),\n",
    "\n",
    "`[login1.jasmin.ac.uk]$ ssh -X <userid>@mass-cli.jasmin.ac.uk`\n"
   ]
  },
  {
   "cell_type": "markdown",
   "id": "f40d8f5b",
   "metadata": {},
   "source": [
    "#### Data transfer \n",
    "\n",
    "In addition to having a mass account, users need to request permission from Met Office to specific directories that they would like to access for data. Once it is approved, the following command can be used to see the list of files in a directory,\n",
    "\n",
    "`[mass-cli.jasmin.ac.uk]$ moo ls -l moo:path/`\n",
    "\n",
    "Note that all commands in mass account require `moo` phrase. For data transfer, use the follwoing command\n",
    "\n",
    "`[mass-cli.jasmin.ac.uk]$ moo get moo:path/file ./`"
   ]
  }
 ],
 "metadata": {
  "kernelspec": {
   "display_name": "Python 3 + Jaspy",
   "language": "python",
   "name": "jaspy"
  },
  "language_info": {
   "codemirror_mode": {
    "name": "ipython",
    "version": 3
   },
   "file_extension": ".py",
   "mimetype": "text/x-python",
   "name": "python",
   "nbconvert_exporter": "python",
   "pygments_lexer": "ipython3",
   "version": "3.7.1"
  }
 },
 "nbformat": 4,
 "nbformat_minor": 5
}
