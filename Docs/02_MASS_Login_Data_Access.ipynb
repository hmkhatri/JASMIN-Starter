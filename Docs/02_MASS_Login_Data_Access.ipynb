{
 "cells": [
  {
   "cell_type": "markdown",
   "id": "c59ee8ca",
   "metadata": {},
   "source": [
    "## Login to MASS account\n",
    "\n",
    "Userd can apply for a MASS account, which is required to get access to data stored on Metoffice Archive. This notebook covers how to login to mass account and how to transfer data from Met Office archive to jasmin.\n",
    "\n",
    "From jasmin account, users can login to mass account using the following command (see https://help.jasmin.ac.uk/article/230-setting-up-your-jasmin-account-for-access-to-mass for more information),\n",
    "\n",
    "`[login1.jasmin.ac.uk]$ ssh -X <userid>@mass-cli.jasmin.ac.uk`\n"
   ]
  },
  {
   "cell_type": "markdown",
   "id": "f40d8f5b",
   "metadata": {},
   "source": [
    "### Data Download\n",
    "\n",
    "In addition to having a mass account, users need to request permission from Met Office to specific directories that they would like to access for data. Once it is approved, the following command can be used to see the list of files in a directory,\n",
    "\n",
    "`[mass-cli.jasmin.ac.uk]$ moo ls -l moo:path/`\n",
    "\n",
    "Note that all commands in mass account require `moo` phrase. For data download to current directory, use the follwoing command\n",
    "\n",
    "`[mass-cli.jasmin.ac.uk]$ moo get moo:path/file ./`\n",
    "\n",
    "For more information, see http://gws-access.jasmin.ac.uk/public/mohc_shared/moose-user-doc/external_user_guide.html.\n",
    "\n",
    "\n",
    "#### Extract Specific Variables\n",
    "\n",
    "It is also possible to download specfic variables (and at selected depths, lats, lons) to save on storage space. This is achieved by using the command `moo filter`. \n",
    "\n",
    "Let's say we want to download temperature and salinity data in the top 500m of the ocean, which corresponds to top 40 levels in the netcdf files. Also, we can extract variables in specific region by supplying the range of lat, lon indices. In the example below, we chose a region in the North Atlantic Ocean. For this, we would first create a query file (let's say `query_var`) to supply variables names and bounds of depth, lat and lon.\n",
    "\n",
    "` -v nav_lat,nav_lon,deptht,thetao,so\n",
    " -d deptht,0,39\n",
    " -d y,700,1200\n",
    " -d x,750,1200\n",
    "`\n",
    "\n",
    "Note that we provide integer indices of depth, lat, lon with `-d` in nc files, not the actual values, and `x, y, deptht` are names of relevant dimensions. Additionally, we would require information about the grid, so we also ask for lat, lon and depth values. We would then excute the following command to download the netcdf file. \n",
    "\n",
    "`[mass-cli.jasmin.ac.uk]$ moo filter query_var moo:path/file ./`"
   ]
  },
  {
   "cell_type": "markdown",
   "id": "dc8b2d52",
   "metadata": {},
   "source": [
    "### Direct Login to MASS\n",
    "\n",
    "For direct login to mass account, users can update their ssh config file`$HOME/.ssh/config` with the following\n",
    "\n",
    "`Host mass-cli   \n",
    "  User <userid>      \n",
    "  HostName mass-cli.jasmin.ac.uk\n",
    "  ProxyCommand ssh -YA -t <userid>@login1.jasmin.ac.uk -W %h:%p 2>/dev/null\n",
    "  `\n",
    "  \n",
    "This would allow users to login directly by using `ssh mass-cli`.\n",
    "\n",
    "Note that `mass-cli` does not yet support slurm batch submissions. Thus, it sometiems becomes difficult to download large data while keeping the terminal window active. In this case, users may write a bash script to retrieve data from Met Office archive. An example of script is below.\n",
    "\n",
    "`#!/bin/bash \n",
    "path=moose:/directory/file \n",
    "moo get $path ./ \n",
    "`\n",
    "This bash script can be submitted remotely fror downloading data. Assuming direct login to MASS (see above) is set up, use the follwowing (more details on https://help.jasmin.ac.uk/article/231-external-access-to-mass-faq).\n",
    "\n",
    "`ssh mass-cli my_script.sh`"
   ]
  }
 ],
 "metadata": {
  "kernelspec": {
   "display_name": "Python 3",
   "language": "python",
   "name": "python3"
  },
  "language_info": {
   "codemirror_mode": {
    "name": "ipython",
    "version": 3
   },
   "file_extension": ".py",
   "mimetype": "text/x-python",
   "name": "python",
   "nbconvert_exporter": "python",
   "pygments_lexer": "ipython3",
   "version": "3.7.11"
  }
 },
 "nbformat": 4,
 "nbformat_minor": 5
}
