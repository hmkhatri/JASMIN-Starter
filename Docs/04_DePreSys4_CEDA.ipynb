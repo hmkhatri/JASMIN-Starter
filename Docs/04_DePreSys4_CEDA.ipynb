{
 "cells": [
  {
   "cell_type": "markdown",
   "id": "617a2452",
   "metadata": {},
   "source": [
    "## DePreSys4 Data on CEDA\n",
    "\n",
    "The notebook lists the available variables from DePreSys4 hindcast data on CEDA server. This data can be accessed through jasmin. The data is located at `/badc/cmip6/data/CMIP6/DCPP/MOHC/HadGEM3-GC31-MM/dcppA-hindcast/`. Note that some of variables on CEDA storage have different names than on Met Office archive. Also, number of zonal and meridional grid points in the dataset on CEDA are less by 2. This could have been done to avoid repeating indices at extreme ends."
   ]
  },
  {
   "cell_type": "markdown",
   "id": "72f0df29",
   "metadata": {},
   "source": [
    "### Ocean Variables\n",
    "\n",
    "The following ocean variables (monthly-averaged) are avaialble.\n",
    "\n",
    "Dimensions: `i = 1440`; `y = 1205`; `lev = 75`\n",
    "\n",
    "| Variable Name | Dimensions | Description |\n",
    "| :-----: | :------: | :------: |\n",
    "| `volo` | `(time)` | Total Sea Water Volume (m^3): Global |\n",
    "| `hfds` | `(time, j, i)` | Net Downward Heat Flux (W/m^2) |\n",
    "| `mlotst` | `(time, j, i)` | Ocean Mixed Layer Thickness Defined by Sigma T (m) |\n",
    "| `thetao` | `(time, lev, j, i)` | Temperature (C) |\n",
    "| `tos` | `(j, i)` | Sea Surface Temperature (C) |\n",
    "| `so` | `(time, lev, j, i)` | Salinity (psu) |\n",
    "| `sos` | `(time, j, i)` | Sea Surface Salinity (psu) |\n",
    "| `zos` | `(time, j, i)` | Sea Surface Height above Geoid (m) |\n",
    "| `zossq` | `(time, j, i)` | Sea Surface Height Squared (m^2) |\n",
    "| `uo` | `(time, lev, j, i)` | Zonal Velocity (m/s)|\n",
    "| `vo` | `(time, lev, j, i)` | Meridional Velocity (m/s)|\n",
    "| `wo` | `(time, lev, j, i)` | Vertical Velocity (m/s)|"
   ]
  },
  {
   "cell_type": "markdown",
   "id": "8d522ebf",
   "metadata": {},
   "source": [
    "### Atmospheric Variables\n",
    "\n",
    "The following atmospheric variables (monthly-averaged) are avaialble.\n",
    "\n",
    "Dimensions: `lon = 432`; `lat = 324`; `plev = 19`\n",
    "\n",
    "| Variable Name | Dimensions | Description |\n",
    "| :-----: | :------: | :------: |\n",
    "| `clt` | `(time, lat, lon)` | Cloud Area Fraction |\n",
    "| `hfls` | `(time, lat, lon)` | Surface Upward Latent Heat Flux (W/m^2) |\n",
    "| `hfss` | `(time, lat, lon)` | Surface Upward Sensible Heat Flux (W/m^2) |\n",
    "| `rlds` | `(time, lat, lon)` | Surface Downwelling Longwave Radiation (W/m^2) |\n",
    "| `rlus` | `(time, lat, lon)` | Surface Upwelling Longwave Radiation (W/m^2) |\n",
    "| `rlut` | `(time, lat, lon)` | TOA Outgoing Longwave Radiation (W/m^2) |\n",
    "| `rlutcs` | `(time, lat, lon)` | TOA Outgoing Clear-sky Longwave Radiation (W/m^2) |\n",
    "| `rsds` | `(time, lat, lon)` | Surface Downwelling Shortwave Radiation (W/m^2) |\n",
    "| `rsus` | `(time, lat, lon)` | Surface Upwelling Shortwave Radiation (W/m^2) |\n",
    "| `rsdt` | `(time, lat, lon)` | TOA Incoming Shortwave Radiation (W/m^2) |\n",
    "| `rsut` | `(time, lat, lon)` | TOA Outgoing Shortwave Radiation (W/m^2) |\n",
    "| `rsutcs` | `(time, lat, lon)` | TOA Outgoing Clear-sky Shortwave Radiation (W/m^2) |\n",
    "| `pr` | `(time, lat, lon)` | Surface Precipitation - Liquid + Solid (kg/m^2/s) |\n",
    "| `prsn` | `(time, lat, lon)` | Surface Precipitation Snow - Solid (kg/m^2/s) |\n",
    "| `evspsbl` | `(time, lat, lon)` | Surface Water Evaporation (kg/m^2/s) |\n",
    "| `ps` | `(time, lat, lon)` | Surface Air Pressue (Pa) |\n",
    "| `psl` | `(time, lat, lon)` | Air Pressue at mean Sea Level (Pa) |\n",
    "| `hus` | `(time, plev, lat, lon)` | Specific Humidity |\n",
    "| `huss` | `(time, lat, lon)` | Near-Surface Specific Humidity, ususally 2 m |\n",
    "| `ta` | `(time, plev, lat, lon)` | Air Temperature (K) |\n",
    "| `tas` | `(time, lat, lon)` | Near-Surface Air Temperature, ususally 2 m (K) |\n",
    "| `tauu` | `(time, lat, lon)` | Surface Downward Eastward Stress (Pa) |\n",
    "| `tauv` | `(time, lat, lon)` | Surface Downward Northward Stress (Pa) |\n",
    "| `ts` | `(time, lat, lon)` | Surface Temperature, Lower Bounadry of the Atmosphere (K) |\n",
    "| `ua` | `(time, plev, lat, lon)` | Zonal Wind (m/s) |\n",
    "| `uas` | `(time, lat, lon)` | Near-Surface Zonal Wind, usually 10 m (m/s) |\n",
    "| `va` | `(time, plev, lat, lon)` | Meridional Wind (m/s) |\n",
    "| `vas` | `(time, lat, lon)` | Near-Surface Meridional Wind, usually 10 m (m/s) |\n",
    "| `sfcWind` | `(time, lat, lon)` | Near-Surface Wind, usually 10 m (m/s) |\n",
    "| `wap` | `(time, plev, lat, lon)` | Vertical Velocity in Pressure Coordinates, dp/dt (Pa/s) |\n",
    "| `zg` | `(time, plev, lat, lon)` | Geopotential Height (m) |"
   ]
  },
  {
   "cell_type": "markdown",
   "id": "b701447a",
   "metadata": {},
   "source": [
    "### Sea-Ice Variables\n",
    "\n",
    "The following sea-ice variables (monthly-averaged) are avaialble.\n",
    "\n",
    "Dimensions: `i = 1440`; `y = 1205`; `lev = 75`\n",
    "\n",
    "| Variable Name | Dimensions | Description |\n",
    "| :-----: | :------: | :------: |\n",
    "| `siconc` | `(time, j, i)` | Sea-Ice Area Fraction |\n",
    "| `sistrxdtop` | `(time, j, i)` | Zonal Wind Stress on Sea-Ice (N/m^2) |\n",
    "| `sistrydtop` | `(time, j, i)` | Meridional Wind Stress on Sea-Ice (N/m^2) |\n",
    "| `sithick` | `(time, j, i)` | Sea-Ice Thickness (m) |\n",
    "| `siu` | `(time, j, i)` | Sea-Ice Zonal Velocity (m/s) |\n",
    "| `siv` | `(time, j, i)` | Sea-Ice Meridional Velocity (m/s) |"
   ]
  }
 ],
 "metadata": {
  "kernelspec": {
   "display_name": "Python 3",
   "language": "python",
   "name": "python3"
  },
  "language_info": {
   "codemirror_mode": {
    "name": "ipython",
    "version": 3
   },
   "file_extension": ".py",
   "mimetype": "text/x-python",
   "name": "python",
   "nbconvert_exporter": "python",
   "pygments_lexer": "ipython3",
   "version": "3.7.11"
  }
 },
 "nbformat": 4,
 "nbformat_minor": 5
}
