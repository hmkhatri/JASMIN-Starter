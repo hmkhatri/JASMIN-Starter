{
 "cells": [
  {
   "cell_type": "markdown",
   "id": "0433295b",
   "metadata": {},
   "source": [
    "## DePreSys4 Ensemble Dataset\n",
    "\n",
    "The notebook documents the variables and diagnostics that are available in the multi-ensemble outputs from Met Office Decadal Prediction System, version 4 (DePreSys4). DePreSys4 comprises of 10 ensemble simulations (between 1960 and 2017) and has a forecast length of 10 year.\n",
    "\n",
    "The hindcasts are named sXXXX where XXXX is the year of the start of the hindcast (the first month is always November). The first hindcast starts November 1960 and is s1960. The hindcasts are 125 months long (10 years plus an extra NDJFM).\n",
    " \n",
    "This is a python dictionary for the hindcast suites and one would need to add `u-` at the start of the suite name to get the full name of the suite:\n",
    "\n",
    "`SUITES = {1960: 'av640', 1962: 'ax451', 1964: 'ax352', 1966: 'ax118', 1968: 'ax954',\n",
    "          1970: 'av830', 1972: 'ax669', 1974: 'ay597', 1976: 'aw113', 1978: 'az083',\n",
    "          1980: 'aw362', 1982: 'ax837', 1984: 'ay871', 1986: 'aw606', 1988: 'az246',\n",
    "          1990: 'aw677', 1992: 'ax983', 1994: 'ay354', 1996: 'ay191', 1998: 'az253',\n",
    "          2000: 'ay395', 2002: 'ay896', 2004: 'ay590', 2006: 'ay937', 2008: 'az256',\n",
    "          2010: 'bi795', 2012: 'bi920', 2014: 'bj153', 2016: 'bj509', 2018: 'bj887',\n",
    "          1961: 'ba535', 1963: 'az737', 1965: 'az429', 1967: 'ba302', 1969: 'ba900',\n",
    "          1971: 'ba625', 1973: 'az875', 1975: 'az468', 1977: 'ba303', 1979: 'ba901',\n",
    "          1981: 'ba655', 1983: 'ba003', 1985: 'az525', 1987: 'ba356', 1989: 'ba934',\n",
    "          1991: 'ba938', 1993: 'ba115', 1995: 'az609', 1997: 'ba489', 1999: 'bb024',\n",
    "          2001: 'bb079', 2003: 'ba125', 2005: 'az673', 2007: 'ba491', 2009: 'bi179',\n",
    "          2011: 'bi819', 2013: 'bh897', 2015: 'bj406', 2017: 'bj573'}`\n",
    " \n",
    "#### DePreSys4 Hindcast Output Streams\n",
    "There are 20 output streams in MASS for the hindcasts: three for restart files (`ada, ida, oda`), eight atmosphere (`ap5, ap6, apc, apg, apm, api, aps, apy`), four ocean (`ond, onm, ons, ony`), four sea-ice (`ind, inm, ins, iny`) and one icebergs (`oni`). Different ocean output stresms are for daily, monthly, seasonally and yearly mean data. The same applies to atmospheric and sea-ice output streams. The template suite is u-at937 where one can find domains, usage profiles, etc.\n",
    "\n",
    "For example, if I want to see the directories that contain these streams for the first member (r001) of the 1970 hindcast, the following command can be used:\n",
    "\n",
    "`[mass-cli.jasmin.ac.uk]$ moo ls moo:ens/u-av830/r001i1p1f1/`"
   ]
  },
  {
   "cell_type": "markdown",
   "id": "2e347f9d",
   "metadata": {},
   "source": [
    "### Ocean variables and diagnostics\n",
    "\n",
    "Here we list the names of the variables available in the ocean output streams. The ocean data is saved in netcdf files and each file has data at a single time step. For example, in the case of monthly-averaged data (`onm`), separate netcdf files are available for each month and year. Additionally, there are six netcdf files (`*scalar.nc`, `*diaptr.nc`, `*grid-U.nc`, `*grid-V.nc`, `*grid-W.nc`) are for every month in a year.\n",
    "\n",
    "#### `*scalar.nc` Data File\n",
    "| Variable Name | Description |\n",
    "| :----- | :------ |\n",
    "| `scvoltot` | Total Sea Water Volume (Global) |\n",
    "| `thetaoga` | Global Averaged of Sea Water Potential Temperature| \n",
    "| `soga` | Global Averaged of Sea Water Salinity| \n",
    "\n",
    "#### `*diaptr.nc` Data File"
   ]
  },
  {
   "cell_type": "code",
   "execution_count": null,
   "id": "86802102",
   "metadata": {},
   "outputs": [],
   "source": []
  }
 ],
 "metadata": {
  "kernelspec": {
   "display_name": "Python 3",
   "language": "python",
   "name": "python3"
  },
  "language_info": {
   "codemirror_mode": {
    "name": "ipython",
    "version": 3
   },
   "file_extension": ".py",
   "mimetype": "text/x-python",
   "name": "python",
   "nbconvert_exporter": "python",
   "pygments_lexer": "ipython3",
   "version": "3.7.11"
  }
 },
 "nbformat": 4,
 "nbformat_minor": 5
}
