{
 "cells": [
  {
   "cell_type": "markdown",
   "id": "09c51111-a678-4d2d-88f8-1101ae4b06b6",
   "metadata": {},
   "source": [
    "## Creating Virtual Conda Environment on JASMIN\n",
    "\n",
    "This doc explains how to create a virtual conda enviroment on JASMIN server and also use it on the JASMIN notebook service. Most of the intructions here follow from https://github.com/cedadev/ceda-notebooks/blob/master/notebooks/docs/add_conda_envs.ipynb."
   ]
  },
  {
   "cell_type": "markdown",
   "id": "ac316cdc-f9e2-4c2c-b978-96775b79079e",
   "metadata": {},
   "source": [
    "#### 1. Create conda environment and install required packages\n",
    "\n",
    "First we load `jaspy` python environment on analysis server to use `conda` command.\n",
    "\n",
    "`[sci1.jasmin.ac.uk]$ module load jaspy`\n",
    "\n",
    "The following command creates a python environment `env_name` file with `numpy`, `scipy` python libraries installed. \n",
    "\n",
    "`[sci1.jasmin.ac.uk]$ conda create -y --name <env_name> numpy scipy`\n",
    "\n",
    "For installing more packages, use the following command.\n",
    "\n",
    "`[sci1.jasmin.ac.uk]$ conda install -y -n <env_name> <package_name>`"
   ]
  },
  {
   "cell_type": "markdown",
   "id": "cacb03c6-cc68-471e-ab31-2a6727d087d0",
   "metadata": {},
   "source": [
    "#### 2. Use conda enviroment on Notebook service\n",
    "\n",
    "We install the `ipykernel` library into the environment. This is required in order to make Jupyter aware of the environment.\n",
    "\n",
    "`[sci1.jasmin.ac.uk]$ conda install -y -n <env_name> ipykernel`\n",
    "\n",
    "We then install the environment as an `ipykernel` so that the Notebook Service will find it.\n",
    "\n",
    "`[sci1.jasmin.ac.uk]$ conda run -n <env_name> python -m ipykernel install --user --name nbenv1`\n",
    "\n",
    "The above command will create `/home/users/<user_name>/.local/share/jupyter/kernels/<env_name>` and the new environment should work with notebook service."
   ]
  },
  {
   "cell_type": "markdown",
   "id": "08446ce5-a23b-4d65-bf01-3b3918f8dbc8",
   "metadata": {},
   "source": [
    "##### Note\n",
    "\n",
    "Although this installation should work on the notebook service, it may not work sometimes on `sci` servers directly. For example, `conda activate <env_name>' may return errors. In that case, follow the instructions on \"https://help.jasmin.ac.uk/article/4489-python-virtual-environments\" to set up a separate environment to use in slurm batch jobs. "
   ]
  }
 ],
 "metadata": {
  "kernelspec": {
   "display_name": "Python 3 + Jaspy",
   "language": "python",
   "name": "jaspy"
  },
  "language_info": {
   "codemirror_mode": {
    "name": "ipython",
    "version": 3
   },
   "file_extension": ".py",
   "mimetype": "text/x-python",
   "name": "python",
   "nbconvert_exporter": "python",
   "pygments_lexer": "ipython3",
   "version": "3.8.12"
  }
 },
 "nbformat": 4,
 "nbformat_minor": 5
}
