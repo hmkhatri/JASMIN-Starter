{
 "cells": [
  {
   "cell_type": "markdown",
   "id": "c59ee8ca",
   "metadata": {},
   "source": [
    "## Login to JASMIN\n",
    "\n",
    "Login to JASMIN account requires creating a SSH private key (see instructions on https://help.jasmin.ac.uk/article/185-generate-ssh-key-pair). Additionally, users might not be able to login through their home newtworks as JASMIN allow selective IP addresses, e.g. University servers. Thus, it is recommented to first login to institution servers and then login to JASMIN. Steps and list of commands required for login are below."
   ]
  },
  {
   "cell_type": "markdown",
   "id": "f40d8f5b",
   "metadata": {},
   "source": [
    "#### 1. Login to University Server\n",
    "\n",
    "Example below is used for login from U. Liverpool server (users should replace the ssh address with their host institution's address). We first login to University linux server.\n",
    "\n",
    "`[local machine]$ ssh <username>@lxb.liv.ac.uk`\n",
    "\n",
    "The command would ask the user for two-point authentication through duo, message or call. Once approved, the user should be able to login to JASMIN account followign the steps described below. Note the dollar symbol `$` at the start of the command line represents the shell prompt as displayed in a terminal and should not be typed."
   ]
  },
  {
   "cell_type": "markdown",
   "id": "0a0a9a52",
   "metadata": {},
   "source": [
    "#### 2. Load SSH Private Key\n",
    "\n",
    "In the second, SSH private key needs to be loaded. The key must the same that was used for the JASMIN account activation (see https://help.jasmin.ac.uk/article/189-get-started-with-jasmin). Users can make copies of their private key on different computer systems to login from different systems.  \n",
    "\n",
    "`[local machine]$ eval $(ssh-agent -s)\n",
    " [local machine]$ ssh-add ~/.ssh/id_rsa_jasmin\n",
    "Enter passphrase for /home/users/jpax/.ssh/id_rsa_jasmin:\n",
    "Identity added: /home/users/jpax/.ssh/id_rsa_jasmin (/home/users/jpax/.ssh/id_rsa_jasmin)`"
   ]
  },
  {
   "cell_type": "markdown",
   "id": "de52769a",
   "metadata": {},
   "source": [
    "#### 3. Login to JASMIN\n",
    "\n",
    "\"-A\" in the first ssh command is mandatory to enable access to the client VM, the \"-X\" enables X11 forwarding and is optional.\n",
    "\n",
    "`[local machine]$ ssh -A -X <userid>@login1.jasmin.ac.uk`\n",
    "\n",
    "This should take the users to jasmin account. From here, users can login to scientific analysis servers (see https://help.jasmin.ac.uk/article/187-login for more information).\n",
    "\n",
    "`[login1.jasmin.ac.uk]$ ssh <user_id>@sci1.jasmin.ac.uk`"
   ]
  }
 ],
 "metadata": {
  "kernelspec": {
   "display_name": "Python 3",
   "language": "python",
   "name": "python3"
  },
  "language_info": {
   "codemirror_mode": {
    "name": "ipython",
    "version": 3
   },
   "file_extension": ".py",
   "mimetype": "text/x-python",
   "name": "python",
   "nbconvert_exporter": "python",
   "pygments_lexer": "ipython3",
   "version": "3.7.11"
  }
 },
 "nbformat": 4,
 "nbformat_minor": 5
}
